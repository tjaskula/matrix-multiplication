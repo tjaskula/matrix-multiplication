{
 "cells": [
  {
   "cell_type": "code",
   "execution_count": 1,
   "metadata": {},
   "outputs": [],
   "source": [
    "def generate_matrix(file_name, prefix, rows, cols, descending, append):\n",
    "    index = 1\n",
    "    if descending:\n",
    "        index = rows * cols\n",
    "    content = ''\n",
    "    for i in range(rows):\n",
    "        for j in range(cols):\n",
    "            if prefix != \"\":\n",
    "                content += '{0:s},{1:d},{2:d},{3:d}\\n'.format(prefix, i, j, index)\n",
    "            else:\n",
    "                content += '{0:d},{1:d},{2:d}\\n'.format(i, j, index)\n",
    "            if descending:\n",
    "                index -= 1\n",
    "            else:\n",
    "                index += 1\n",
    "    #print(content)\n",
    "    with open(file_name, 'a' if append else 'w') as f:\n",
    "        f.write(content)"
   ]
  },
  {
   "cell_type": "code",
   "execution_count": 2,
   "metadata": {},
   "outputs": [],
   "source": [
    "generate_matrix('mapreduce_1.txt', 'A', 10, 30, False, False)\n",
    "generate_matrix('mapreduce_1.txt', 'B', 30, 20, True, True)"
   ]
  },
  {
   "cell_type": "code",
   "execution_count": 3,
   "metadata": {},
   "outputs": [],
   "source": [
    "generate_matrix('mapreduce_2.txt', 'A', 20, 60, False, False)\n",
    "generate_matrix('mapreduce_2.txt', 'B', 60, 40, True, True)"
   ]
  },
  {
   "cell_type": "code",
   "execution_count": 4,
   "metadata": {},
   "outputs": [],
   "source": [
    "generate_matrix('mapreduce_3.txt', 'A', 40, 120, False, False)\n",
    "generate_matrix('mapreduce_3.txt', 'B', 120, 80, True, True)"
   ]
  },
  {
   "cell_type": "code",
   "execution_count": 5,
   "metadata": {},
   "outputs": [],
   "source": [
    "generate_matrix('mapreduce_4.txt', 'A', 80, 240, False, False)\n",
    "generate_matrix('mapreduce_4.txt', 'B', 240, 160, True, True)"
   ]
  },
  {
   "cell_type": "code",
   "execution_count": 6,
   "metadata": {},
   "outputs": [],
   "source": [
    "generate_matrix('mapreduce_5.txt', 'A', 160, 480, False, False)\n",
    "generate_matrix('mapreduce_5.txt', 'B', 480, 320, True, True)"
   ]
  },
  {
   "cell_type": "code",
   "execution_count": 7,
   "metadata": {},
   "outputs": [],
   "source": [
    "generate_matrix('mapreduce_test.txt', 'A', 10, 12, False, False)\n",
    "generate_matrix('mapreduce_test.txt', 'B', 12, 15, True, True)"
   ]
  },
  {
   "cell_type": "code",
   "execution_count": 8,
   "metadata": {},
   "outputs": [],
   "source": [
    "generate_matrix('mapreduce_big.txt', 'A', 320, 960, False, False)\n",
    "generate_matrix('mapreduce_big.txt', 'B', 960, 640, True, True)"
   ]
  },
  {
   "cell_type": "markdown",
   "metadata": {},
   "source": [
    "cat src/hadoop/simple/mapreduce_1.txt | ./src/hadoop/simple/mapper.py 10 20 | sort -n | ./src/hadoop/simple/reducer.py\n",
    "\n",
    "cat src/hadoop/simple/mapreduce_2.txt | ./src/hadoop/simple/mapper.py 20 40 | sort -n | ./src/hadoop/simple/reducer.py\n",
    "\n",
    "cat src/hadoop/simple/mapreduce_3.txt | ./src/hadoop/simple/mapper.py 40 80 | sort -n | ./src/hadoop/simple/reducer.py\n",
    "\n",
    "cat src/hadoop/simple/mapreduce_4.txt | ./src/hadoop/simple/mapper.py 80 160 | sort -n | ./src/hadoop/simple/reducer.py\n",
    "\n",
    "cat src/hadoop/simple/mapreduce_5.txt | ./src/hadoop/simple/mapper.py 160 320 | sort -n | ./src/hadoop/simple/reducer.py\n",
    "\n",
    "\n",
    "\n",
    "cat src/hadoop/advanced/mapreduce_1.txt | ./src/hadoop/advanced/mapper.py 10 20 | sort -n | ./src/hadoop/advanced/reducer.py 30\n",
    "\n",
    "cat src/hadoop/advanced/mapreduce_2.txt | ./src/hadoop/advanced/mapper.py 20 40 | sort -n | ./src/hadoop/advanced/reducer.py 60\n",
    "\n",
    "cat src/hadoop/advanced/mapreduce_3.txt | ./src/hadoop/advanced/mapper.py 40 80 | sort -n | ./src/hadoop/advanced/reducer.py 120\n",
    "\n",
    "cat src/hadoop/advanced/mapreduce_4.txt | ./src/hadoop/advanced/mapper.py 80 160 | sort -n | ./src/hadoop/advanced/reducer.py 240\n",
    "\n",
    "cat src/hadoop/advanced/mapreduce_5.txt | ./src/hadoop/advanced/mapper.py 160 320 | sort -n | ./src/hadoop/advanced/reducer.py 480"
   ]
  },
  {
   "cell_type": "code",
   "execution_count": null,
   "metadata": {},
   "outputs": [],
   "source": []
  }
 ],
 "metadata": {
  "kernelspec": {
   "display_name": "Python 3",
   "language": "python",
   "name": "python3"
  },
  "language_info": {
   "codemirror_mode": {
    "name": "ipython",
    "version": 3
   },
   "file_extension": ".py",
   "mimetype": "text/x-python",
   "name": "python",
   "nbconvert_exporter": "python",
   "pygments_lexer": "ipython3",
   "version": "3.7.1"
  }
 },
 "nbformat": 4,
 "nbformat_minor": 2
}
